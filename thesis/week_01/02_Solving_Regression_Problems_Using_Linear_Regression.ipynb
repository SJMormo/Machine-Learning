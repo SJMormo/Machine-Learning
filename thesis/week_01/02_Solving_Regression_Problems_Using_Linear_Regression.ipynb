{
  "nbformat": 4,
  "nbformat_minor": 0,
  "metadata": {
    "colab": {
      "provenance": [],
      "authorship_tag": "ABX9TyOjCO5xyW0eWy0nOu4yHSnc"
    },
    "kernelspec": {
      "name": "python3",
      "display_name": "Python 3"
    },
    "language_info": {
      "name": "python"
    }
  },
  "cells": [
    {
      "cell_type": "markdown",
      "source": [
        "# Samver Jahan Mormo\n",
        "---\n",
        "Department of Computer Science & Engineering,\n",
        "\n",
        "Rajshahi University of Engineering & Technology (RUET)\n",
        "\n",
        "Linkedin: https://www.linkedin.com/in/samver-jahan-mormo/\n",
        "\n",
        "Email: sjm91097@gmail.com\n",
        "\n",
        "---\n",
        "\n"
      ],
      "metadata": {
        "id": "16hqft4RAwR2"
      }
    },
    {
      "cell_type": "markdown",
      "source": [
        "# Visuallize Initial Data"
      ],
      "metadata": {
        "id": "MKfrRQg3E4qY"
      }
    },
    {
      "cell_type": "markdown",
      "source": [
        "## Library"
      ],
      "metadata": {
        "id": "nMvQOxwlCJE_"
      }
    },
    {
      "cell_type": "code",
      "execution_count": 44,
      "metadata": {
        "id": "7QB4gS8_A2Cx"
      },
      "outputs": [],
      "source": [
        "import matplotlib.pyplot as plt\n",
        "import numpy as np"
      ]
    },
    {
      "cell_type": "markdown",
      "source": [
        "## Data"
      ],
      "metadata": {
        "id": "56Cw_EdhClb3"
      }
    },
    {
      "cell_type": "code",
      "source": [
        "# represents the heights of a group of people\n",
        "heights = [[1.6], [1.65], [1.7], [1.73], [1.8]]\n",
        "\n",
        "# represents the weights of a group of people\n",
        "weights = [[60], [65], [72.3], [75], [80]]"
      ],
      "metadata": {
        "id": "ekhLxj5LCmY_"
      },
      "execution_count": 25,
      "outputs": []
    },
    {
      "cell_type": "markdown",
      "source": [
        "## Visualize Data"
      ],
      "metadata": {
        "id": "O00sMsULCvwf"
      }
    },
    {
      "cell_type": "code",
      "source": [
        "plt.title('Weights plotted against heights')\n",
        "plt.xlabel('Heights in metres')\n",
        "plt.ylabel('Weights in kilograms')\n",
        "\n",
        "plt.plot(heights, weights, 'b.')\n",
        "\n",
        "plt.axis([1.5, 1.85, 50.0, 90.0])\n",
        "plt.grid(True)"
      ],
      "metadata": {
        "colab": {
          "base_uri": "https://localhost:8080/",
          "height": 295
        },
        "id": "eUexB5jVCx5i",
        "outputId": "6daf8b44-4ccd-4b07-8d1e-89ae34505943"
      },
      "execution_count": 26,
      "outputs": [
        {
          "output_type": "display_data",
          "data": {
            "text/plain": [
              "<Figure size 432x288 with 1 Axes>"
            ],
            "image/png": "[encoded data removed]"
          },
          "metadata": {
            "needs_background": "light"
          }
        }
      ]
    },
    {
      "cell_type": "markdown",
      "source": [
        "# Linear Regression"
      ],
      "metadata": {
        "id": "qc0Z3ptPFKAG"
      }
    },
    {
      "cell_type": "markdown",
      "source": [
        "## Create Linear Regression Model"
      ],
      "metadata": {
        "id": "q99n6xwEFQw2"
      }
    },
    {
      "cell_type": "code",
      "source": [
        "from sklearn.linear_model import LinearRegression\n",
        "model = LinearRegression()"
      ],
      "metadata": {
        "id": "970GsbERDjqZ"
      },
      "execution_count": 21,
      "outputs": []
    },
    {
      "cell_type": "markdown",
      "source": [
        "## Fit"
      ],
      "metadata": {
        "id": "0JOQ2CFjFuAP"
      }
    },
    {
      "cell_type": "code",
      "source": [
        "model.fit(heights, weights)"
      ],
      "metadata": {
        "colab": {
          "base_uri": "https://localhost:8080/"
        },
        "id": "IhvF-fUAFuw9",
        "outputId": "663ac758-824e-421a-e174-ec719cac5ed0"
      },
      "execution_count": 27,
      "outputs": [
        {
          "output_type": "execute_result",
          "data": {
            "text/plain": [
              "LinearRegression()"
            ]
          },
          "metadata": {},
          "execution_count": 27
        }
      ]
    },
    {
      "cell_type": "markdown",
      "source": [
        "## Make Prediction"
      ],
      "metadata": {
        "id": "sPJ9z-4sGLpv"
      }
    },
    {
      "cell_type": "code",
      "source": [
        "model.predict([[1.75]])\n",
        "pred_weight = model.predict([[1.75]])[0][0]\n",
        "pred_weight"
      ],
      "metadata": {
        "colab": {
          "base_uri": "https://localhost:8080/"
        },
        "id": "ULMlNbzVGNQ0",
        "outputId": "b365c155-69d5-4c37-f191-d4738bd92c77"
      },
      "execution_count": 33,
      "outputs": [
        {
          "output_type": "execute_result",
          "data": {
            "text/plain": [
              "76.03876500857632"
            ]
          },
          "metadata": {},
          "execution_count": 33
        }
      ]
    },
    {
      "cell_type": "markdown",
      "source": [
        "## Plotting the Linear Regression Line"
      ],
      "metadata": {
        "id": "HcBl7MZCG5eB"
      }
    },
    {
      "cell_type": "code",
      "source": [
        "plt.title('Weights plotted against heights')\n",
        "plt.xlabel('Heights in metres')\n",
        "plt.ylabel('Weights in kilograms')\n",
        "\n",
        "plt.plot(heights, weights, 'b.')\n",
        "plt.grid(True)\n",
        "plt.axis([1.55, 1.85, 50, 90])\n",
        "\n",
        "# ploting the Regression Line\n",
        "plt.plot(heights, model.predict(heights), c='r')"
      ],
      "metadata": {
        "colab": {
          "base_uri": "https://localhost:8080/",
          "height": 312
        },
        "id": "b4xX6AHNG6mY",
        "outputId": "89d2fa29-901c-4026-8f26-53933d78ba04"
      },
      "execution_count": 43,
      "outputs": [
        {
          "output_type": "execute_result",
          "data": {
            "text/plain": [
              "[<matplotlib.lines.Line2D at 0x7fa4244ef4d0>]"
            ]
          },
          "metadata": {},
          "execution_count": 43
        },
        {
          "output_type": "display_data",
          "data": {
            "text/plain": [
              "<Figure size 432x288 with 1 Axes>"
            ],
            "image/png": "[encoded data removed]"
          },
          "metadata": {
            "needs_background": "light"
          }
        }
      ]
    },
    {
      "cell_type": "markdown",
      "source": [
        "# Examining the Performance of the Model by Calculating the Residual Sum of Squares"
      ],
      "metadata": {
        "id": "GdyZ_J18IjES"
      }
    },
    {
      "cell_type": "markdown",
      "source": [],
      "metadata": {
        "id": "0PXsy7zhIpFp"
      }
    },
    {
      "cell_type": "code",
      "source": [
        "residual_sum = np.sum((weights - model.predict(heights)) ** 2)\n",
        "print(f'Residual Sum of squares: {residual_sum}')"
      ],
      "metadata": {
        "colab": {
          "base_uri": "https://localhost:8080/"
        },
        "id": "ZnAhKk32IoSf",
        "outputId": "fa96d428-c977-4bc4-fcb1-da9aaf242bd1"
      },
      "execution_count": 51,
      "outputs": [
        {
          "output_type": "stream",
          "name": "stdout",
          "text": [
            "Residual Sum of squares: 5.336432246998277\n"
          ]
        }
      ]
    },
    {
      "cell_type": "markdown",
      "source": [
        "# Evaluating the Model Using a Test Dataset"
      ],
      "metadata": {
        "id": "E3BMSailLjfe"
      }
    },
    {
      "cell_type": "markdown",
      "source": [
        "## test data"
      ],
      "metadata": {
        "id": "m0P0kP_5LoQy"
      }
    },
    {
      "cell_type": "code",
      "source": [
        "heights_test = [[1.58], [1.62], [1.69], [1.76], [1.82]]\n",
        "weights_test = [[58], [63], [72], [73], [85]]"
      ],
      "metadata": {
        "id": "N5Bht7rlLkOy"
      },
      "execution_count": 52,
      "outputs": []
    },
    {
      "cell_type": "markdown",
      "source": [
        "It can be measured how closely the test data fits the regression line using the R-Squared method. The R-Squared method is also known as the coefficient of determination or the coefficient of multiple determinations for multiple regressions.\n",
        "\n",
        "Here is the formula:\n",
        "\n",
        "![image.png](data:image/png;base64,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)\n",
        "\n",
        "## Scikit-learn has the score() function to calculate the R-Squared automatically for you"
      ],
      "metadata": {
        "id": "ZKspjMaBMSua"
      }
    },
    {
      "cell_type": "code",
      "source": [
        "print(f'R-squared: {model.score(heights_test, weights_test)}')"
      ],
      "metadata": {
        "colab": {
          "base_uri": "https://localhost:8080/"
        },
        "id": "2GPf4yEjMgZf",
        "outputId": "49e76ab2-3884-493d-a7fd-b15c9e38a4a4"
      },
      "execution_count": 53,
      "outputs": [
        {
          "output_type": "stream",
          "name": "stdout",
          "text": [
            "R-squared: 0.9428592885995254\n"
          ]
        }
      ]
    }
  ]
}